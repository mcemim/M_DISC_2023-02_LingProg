{
 "cells": [
  {
   "cell_type": "code",
   "execution_count": 12,
   "metadata": {},
   "outputs": [
    {
     "name": "stdout",
     "output_type": "stream",
     "text": [
      "(1, 9, 6, 3, 4, 5, 2, 7, 8)\n",
      "(1, 2, 3, 4, 5, 6, 7, 8, 9)\n"
     ]
    }
   ],
   "source": [
    "# 1) Complete o programa de forma que seja criado uma nova tuplas com todos os valores da tupla original,\n",
    "# desconsiderando os repetidos (Exemplo de resposta abaixo).\n",
    "\n",
    "tupla_original = (1, 9, 1, 6, 3, 4, 5, 1, 1, 2, 5, 6, 7, 8, 9, 2)\n",
    "tupla_sem_repeticao_iter = ()\n",
    "\n",
    "for elem in tupla_original:\n",
    "    if elem not in tupla_sem_repeticao_iter:\n",
    "        tupla_sem_repeticao_iter += (elem,)\n",
    "        \n",
    "\n",
    "\n",
    "tupla_sem_repeticao_set = tuple(set(tupla_original))\n",
    "\n",
    "print(tupla_sem_repeticao_iter)\n",
    "print(tupla_sem_repeticao_set)"
   ]
  },
  {
   "cell_type": "code",
   "execution_count": 13,
   "metadata": {},
   "outputs": [
    {
     "name": "stdout",
     "output_type": "stream",
     "text": [
      "24\n"
     ]
    }
   ],
   "source": [
    "# 2) Faça um programa que mostre a soma de todos os valores armazenados em uma tupla\n",
    "\n",
    "T1 = (1, 9, 1, 6, 3, 4)\n",
    "\n",
    "print(sum(T1))"
   ]
  },
  {
   "cell_type": "code",
   "execution_count": 15,
   "metadata": {},
   "outputs": [
    {
     "name": "stdout",
     "output_type": "stream",
     "text": [
      "3 valores '50' encontrados\n"
     ]
    }
   ],
   "source": [
    "# 3) Faça um programa que conte o número de ocorrências de um valor digitado pelo usuário em uma tupla\n",
    "\n",
    "T = (50, 10, 60, 70, 50, 50)\n",
    "entrada = int(input('Digite um número para contar:'))\n",
    "print(f\"{T.count(entrada)} valores '{entrada}' encontrados\")"
   ]
  },
  {
   "cell_type": "code",
   "execution_count": 16,
   "metadata": {},
   "outputs": [
    {
     "name": "stdout",
     "output_type": "stream",
     "text": [
      "20\n"
     ]
    }
   ],
   "source": [
    "# 4) Descubra como acessar o valor 20 na tupla e imprima na tela o valor.\n",
    "\n",
    "T = (\"Orange\", [10, 20, 30], (5, 15, 25))\n",
    "\n",
    "print(T[1][1])"
   ]
  },
  {
   "cell_type": "code",
   "execution_count": 19,
   "metadata": {},
   "outputs": [
    {
     "name": "stdout",
     "output_type": "stream",
     "text": [
      "[(15,), ('a', 'b'), ('a', 'b', 'c'), 'd']\n"
     ]
    }
   ],
   "source": [
    "# 5) Faça um programa que remova as tuplas vazias de uma lista de tuplas\n",
    "\n",
    "L = [(), (), (15,), ('a', 'b'), ('a', 'b', 'c'), ('d'), ()]\n",
    "L = [_ for _ in L if _ != ()]\n",
    "\n",
    "print(L)"
   ]
  },
  {
   "cell_type": "code",
   "execution_count": 20,
   "metadata": {},
   "outputs": [
    {
     "name": "stdout",
     "output_type": "stream",
     "text": [
      "[('Willian', '69.10'), ('Andre', '70.5'), ('Pedro', '72.20')]\n"
     ]
    }
   ],
   "source": [
    "# 6) Escreva um programa que ordene uma tupla considerando o seu elemento do tipo float.\n",
    "dados = [('Pedro', '72.20'), ('Willian', '69.10'), ('Andre', '70.5')]\n",
    "\n",
    "dados_ordenados = sorted(dados, key=lambda x: float(x[1]))\n",
    "\n",
    "print(dados_ordenados)"
   ]
  },
  {
   "cell_type": "code",
   "execution_count": 24,
   "metadata": {},
   "outputs": [
    {
     "name": "stdout",
     "output_type": "stream",
     "text": [
      "(4, 7, 9)\n"
     ]
    }
   ],
   "source": [
    "# 7) Escreva um programa que calcule a soma de todos os elementos de cada tupla armazenada dentro de uma lista de tuplas.\n",
    "entrada = [(3, 1), (2, 5), (8, 1)]\n",
    "saida = ()\n",
    "for item in entrada:\n",
    "    saida += (sum(item),)\n",
    "print(saida)"
   ]
  }
 ],
 "metadata": {
  "kernelspec": {
   "display_name": ".venv",
   "language": "python",
   "name": "python3"
  },
  "language_info": {
   "codemirror_mode": {
    "name": "ipython",
    "version": 3
   },
   "file_extension": ".py",
   "mimetype": "text/x-python",
   "name": "python",
   "nbconvert_exporter": "python",
   "pygments_lexer": "ipython3",
   "version": "3.12.0"
  }
 },
 "nbformat": 4,
 "nbformat_minor": 2
}
