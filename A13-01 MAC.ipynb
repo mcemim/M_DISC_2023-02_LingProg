{
 "cells": [
  {
   "cell_type": "code",
   "execution_count": 10,
   "metadata": {},
   "outputs": [
    {
     "name": "stdout",
     "output_type": "stream",
     "text": [
      "Pilha:  []\n",
      "Pilha:  ['A']\n",
      "Pilha:  ['A', 'J']\n",
      "Pilha:  ['A', 'J', 'K']\n",
      "Pilha:  ['A', 'J']\n",
      "Pilha:  ['A', 'J', 'P']\n",
      "Pilha:  ['A', 'J', 'P', 'E']\n",
      "Pilha:  ['A', 'J', 'P', 'E', 'H']\n",
      "Pilha:  []\n",
      "Pilha:  ['X']\n",
      "Pilha:  ['X', 'G']\n",
      "Pilha:  []\n"
     ]
    }
   ],
   "source": [
    "# 1) Utilize uma lista para criar uma pilha. \n",
    "# Insira e remova elementos (letras) de forma que \n",
    "# a sequência de comandos crie as instâncias da pilha na sequência exibida na  figura.\n",
    "\n",
    "stack = []\n",
    "print('Pilha: ', stack)\n",
    "stack.append('A')\n",
    "print('Pilha: ', stack)\n",
    "stack.append('J')\n",
    "print('Pilha: ', stack)\n",
    "stack.append('K')\n",
    "print('Pilha: ', stack)\n",
    "stack.pop()\n",
    "print('Pilha: ', stack)\n",
    "stack.append('P')\n",
    "print('Pilha: ', stack)\n",
    "stack.append('E')\n",
    "print('Pilha: ', stack)\n",
    "stack.append('H')\n",
    "print('Pilha: ', stack)\n",
    "while len(stack) > 0:\n",
    "    stack.pop()\n",
    "print('Pilha: ', stack)\n",
    "stack.append('X')\n",
    "print('Pilha: ', stack)\n",
    "stack.append('G')\n",
    "print('Pilha: ', stack)\n",
    "while len(stack) > 0:\n",
    "    stack.pop()\n",
    "print('Pilha: ', stack)\n",
    "\n"
   ]
  },
  {
   "cell_type": "code",
   "execution_count": 13,
   "metadata": {},
   "outputs": [
    {
     "name": "stdout",
     "output_type": "stream",
     "text": [
      "Elementos da pilha depois de inserir dois elementos: [10, 20, 30, 40, 50]\n",
      "50 foi removido da pilha\n",
      "40 foi removido da pilha\n",
      "30 foi removido da pilha\n",
      "Elementos da pilha após remover 3 elementos: [10, 20]\n",
      "Elemento no topo da pilha: 20\n"
     ]
    }
   ],
   "source": [
    "# 2) Utilize uma lista para criar uma pilha. Inicialize com os elementos [10, 20, 30], \n",
    "# conforme exibido no código. Em seguida, complete o código criando a sequência de comandos \n",
    "# para formar a saída exibida abaixo\n",
    "\n",
    "stack = [10, 20, 30]\n",
    "stack.append(40)\n",
    "stack.append(50)\n",
    "print(\"Elementos da pilha depois de inserir dois elementos:\", stack)\n",
    "print(stack.pop(), 'foi removido da pilha')\n",
    "print(stack.pop(), 'foi removido da pilha')\n",
    "print(stack.pop(), 'foi removido da pilha')\n",
    "print(\"Elementos da pilha após remover 3 elementos:\", stack)\n",
    "print(\"Elemento no topo da pilha:\", stack.pop())\n"
   ]
  },
  {
   "cell_type": "code",
   "execution_count": 16,
   "metadata": {},
   "outputs": [
    {
     "name": "stdout",
     "output_type": "stream",
     "text": [
      "banana foi inserido na fila\n",
      "Elementos na fila após inserção de um elemento: ['banana']\n",
      "\n",
      "Elementos na fila após inserção de dois elementos: ['banana', 'abacate', 'caqui']\n",
      "\n",
      "Removendo dois elementos da fila\n",
      "banana foi removido da pilha\n",
      "abacate foi removido da pilha\n",
      "Elementos na fila após as  remoções: ['caqui']\n"
     ]
    }
   ],
   "source": [
    "# 3) Complete o código para que a saída do programa seja a exibida abaixo. \n",
    "# Utilize uma lista para representar a estrutura fila.\n",
    "\n",
    "queue = []\n",
    "queue.append('banana')\n",
    "print(f'{queue[0]} foi inserido na fila')\n",
    "print(f'Elementos na fila após inserção de um elemento: {queue}')\n",
    "queue.append('abacate')\n",
    "queue.append('caqui')\n",
    "print()\n",
    "print(f'Elementos na fila após inserção de dois elementos: {queue}')\n",
    "print()\n",
    "print(\"Removendo dois elementos da fila\")\n",
    "print(queue.pop(0), 'foi removido da pilha')\n",
    "print(queue.pop(0), 'foi removido da pilha')\n",
    "print(f'Elementos na fila após as  remoções: {queue}')\n"
   ]
  }
 ],
 "metadata": {
  "kernelspec": {
   "display_name": ".venv",
   "language": "python",
   "name": "python3"
  },
  "language_info": {
   "codemirror_mode": {
    "name": "ipython",
    "version": 3
   },
   "file_extension": ".py",
   "mimetype": "text/x-python",
   "name": "python",
   "nbconvert_exporter": "python",
   "pygments_lexer": "ipython3",
   "version": "3.12.0"
  }
 },
 "nbformat": 4,
 "nbformat_minor": 2
}
