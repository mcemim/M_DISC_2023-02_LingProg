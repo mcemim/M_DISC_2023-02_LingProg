{
 "cells": [
  {
   "cell_type": "code",
   "execution_count": 2,
   "metadata": {},
   "outputs": [],
   "source": [
    "# 1) Crie um programa que conte quantas linhas existem em um arquivo de texto\n",
    "\n",
    "def conta_linhas(arquivo):\n",
    "    try:\n",
    "        with open(arquivo, 'r') as f:\n",
    "            linhas = f.readlines()\n",
    "            return len(linhas)\n",
    "    except FileNotFoundError:\n",
    "        print(f'O arquivo \"{arquivo}\" não foi encontrado.')\n",
    "        return None"
   ]
  },
  {
   "cell_type": "code",
   "execution_count": 3,
   "metadata": {},
   "outputs": [],
   "source": [
    "# 2) Escreva um programa que permita ao usuário fornecer o nome de dois arquivos. \n",
    "# O programa deve criar um terceiro arquivo que seja a concatenação dos conteúdos dos dois arquivos fornecidos.\n",
    "\n",
    "def concatena_arquivos(arquivo1, arquivo2, arquivo_saida = 'output_file.txt'):\n",
    "    try:\n",
    "        with open(arquivo1, 'r') as f1, open(arquivo2, 'r') as f2:\n",
    "            conteudo1 = f1.read()\n",
    "            conteudo2 = f2.read()\n",
    "\n",
    "            with open(arquivo_saida, 'w') as f_saida:\n",
    "                f_saida.write(conteudo1)\n",
    "                f_saida.write(conteudo2)\n",
    "\n",
    "        print(f'A concatenação foi realizada com sucesso. O resultado está em \"{arquivo_saida}\".')\n",
    "    except FileNotFoundError as e:\n",
    "        print(f'Algum dos arquivos (\"{f1}\" ou \"{f2}\") não foi encontrado.')\n",
    "        print(e)"
   ]
  },
  {
   "cell_type": "code",
   "execution_count": 4,
   "metadata": {},
   "outputs": [],
   "source": [
    "#Escreva um programa que solicite ao usuário uma palavra-chave e um arquivo de texto. \n",
    "# O programa deve verificar se a palavra-chave existe no arquivo e, em caso afirmativo, imprimir as linhas onde ela ocorre.\n",
    "\n",
    "def localiza_palavra(palavra, arquivo):\n",
    "    try:\n",
    "        with open(arquivo, 'r') as f:\n",
    "            achou = False\n",
    "            linhas = f.readlines()\n",
    "            for l in linhas:\n",
    "                if palavra in l:\n",
    "                    print(l)\n",
    "                    achou = True\n",
    "            if not achou:\n",
    "                print(f'{palavra} não foi encontrada em {arquivo}')\n",
    "    except FileNotFoundError:\n",
    "        print(f'O arquivo \"{arquivo}\" não foi encontrado.')\n",
    "        return None"
   ]
  },
  {
   "cell_type": "code",
   "execution_count": 5,
   "metadata": {},
   "outputs": [],
   "source": [
    "# Peça ao usuário que forneça um arquivo de texto e duas palavras. \n",
    "# Substitua a primeira palavra pela segunda em todo o arquivo e salve o resultado em um novo arquivo.\n",
    "\n",
    "def substitui_palavras(palavra_original, palavra_substituta, arquivo, arquivo_saida = 'output_file.txt'):\n",
    "    try:\n",
    "        with open(arquivo, 'r') as f:\n",
    "            conteudo = f.read()\n",
    "            conteudo_substituido = conteudo.replace(palavra_original, palavra_substituta)\n",
    "\n",
    "        with open(arquivo_saida, 'w') as f_saida:\n",
    "            f_saida.write(conteudo_substituido)\n",
    "\n",
    "        print(f'A substituição foi realizada com sucesso. O resultado está em \"{arquivo_saida}\".')\n",
    "    except FileNotFoundError as e:\n",
    "        print(f'Erro: {e}')"
   ]
  },
  {
   "cell_type": "code",
   "execution_count": 6,
   "metadata": {},
   "outputs": [],
   "source": [
    "# Crie um programa que conte quantas palavras existem em um arquivo de texto. \n",
    "# Considere que as palavras estão separadas por espaços em branco.\n",
    "\n",
    "def conta_palavras(arquivo):\n",
    "    try:\n",
    "        palavras = 0\n",
    "        with open(arquivo, 'r') as f:\n",
    "            linhas = f.readlines()\n",
    "            for l in linhas:\n",
    "                palavras += len(l.split(\" \"))\n",
    "            return palavras\n",
    "    except FileNotFoundError:\n",
    "        print(f'O arquivo \"{arquivo}\" não foi encontrado.')\n",
    "        return None"
   ]
  },
  {
   "cell_type": "code",
   "execution_count": 7,
   "metadata": {},
   "outputs": [
    {
     "name": "stdout",
     "output_type": "stream",
     "text": [
      "5\n"
     ]
    }
   ],
   "source": [
    "file = 'arquivo_exemplo.txt'\n",
    "print(conta_linhas(file))"
   ]
  },
  {
   "cell_type": "code",
   "execution_count": 8,
   "metadata": {},
   "outputs": [
    {
     "name": "stdout",
     "output_type": "stream",
     "text": [
      "A concatenação foi realizada com sucesso. O resultado está em \"output_file.txt\".\n"
     ]
    }
   ],
   "source": [
    "concatena_arquivos(file, 'arquivo_exemplo 2.txt')"
   ]
  },
  {
   "cell_type": "code",
   "execution_count": 10,
   "metadata": {},
   "outputs": [
    {
     "name": "stdout",
     "output_type": "stream",
     "text": [
      "Oi, sou o Marcos.\n",
      "\n",
      "O Marcos estÃ¡ testando.\n",
      "\n"
     ]
    }
   ],
   "source": [
    "localiza_palavra('Marcos', 'output_file.txt')"
   ]
  },
  {
   "cell_type": "code",
   "execution_count": 11,
   "metadata": {},
   "outputs": [
    {
     "name": "stdout",
     "output_type": "stream",
     "text": [
      "A substituição foi realizada com sucesso. O resultado está em \"new_output_file.txt\".\n"
     ]
    }
   ],
   "source": [
    "substitui_palavras('Marcos', 'João', 'output_file.txt', 'new_output_file.txt')"
   ]
  },
  {
   "cell_type": "code",
   "execution_count": 12,
   "metadata": {},
   "outputs": [
    {
     "name": "stdout",
     "output_type": "stream",
     "text": [
      "105\n"
     ]
    }
   ],
   "source": [
    "print(conta_palavras(file))"
   ]
  }
 ],
 "metadata": {
  "kernelspec": {
   "display_name": ".venv",
   "language": "python",
   "name": "python3"
  },
  "language_info": {
   "codemirror_mode": {
    "name": "ipython",
    "version": 3
   },
   "file_extension": ".py",
   "mimetype": "text/x-python",
   "name": "python",
   "nbconvert_exporter": "python",
   "pygments_lexer": "ipython3",
   "version": "3.12.0"
  }
 },
 "nbformat": 4,
 "nbformat_minor": 2
}
