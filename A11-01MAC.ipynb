{
 "cells": [
  {
   "cell_type": "code",
   "execution_count": 2,
   "metadata": {},
   "outputs": [
    {
     "name": "stdout",
     "output_type": "stream",
     "text": [
      "[500, 400, 300, 200, 100]\n"
     ]
    }
   ],
   "source": [
    "# 1) Escreva um programa que inverta a ordem dos elementos de uma lista e imprima na tela o resultado\n",
    "\n",
    "list1 = [100, 200, 300, 400, 500]\n",
    "list2 = []\n",
    "\n",
    "for _ in list1[::-1]:\n",
    "    list2.append(_)\n",
    "    \n",
    "print(list2)"
   ]
  },
  {
   "cell_type": "code",
   "execution_count": 3,
   "metadata": {},
   "outputs": [
    {
     "name": "stdout",
     "output_type": "stream",
     "text": [
      "[1, 4, 9, 16, 25, 36, 49]\n"
     ]
    }
   ],
   "source": [
    "# 2) Dada uma lista de números, escreva um programa que calcule o\n",
    "# quadrado de cada item e armazene os valores calculados em uma nova lista.\n",
    "# Exemplo. Quando a entrada é [1, 2, 3, 4, 5, 6, 7], a saída deve ser [1, 4, 9, 16, 25, 36, 49].\n",
    "\n",
    "entrada = [1, 2, 3, 4, 5, 6, 7]\n",
    "saida = []\n",
    "\n",
    "for _ in entrada:\n",
    "    saida.append(_**2)\n",
    "    \n",
    "print(saida)"
   ]
  },
  {
   "cell_type": "code",
   "execution_count": 4,
   "metadata": {},
   "outputs": [
    {
     "name": "stdout",
     "output_type": "stream",
     "text": [
      "[1, -1, 3, 4, 5, 6, 7]\n"
     ]
    }
   ],
   "source": [
    "# 3) Dada uma lista, faça um programa que solicite ao usuário que digite um número.\n",
    "# Caso o número digitado esteja na lista, ele deve ser substituído por -1.\n",
    "\n",
    "lista = [1, 2, 3, 4, 5, 6, 7]\n",
    "entrada = int(input(\"Digite um número\"))\n",
    "\n",
    "for idx, _ in enumerate(lista): \n",
    "    if _ == entrada:\n",
    "        lista[idx] = -1\n",
    "\n",
    "print(lista)"
   ]
  },
  {
   "cell_type": "code",
   "execution_count": 6,
   "metadata": {},
   "outputs": [
    {
     "name": "stdout",
     "output_type": "stream",
     "text": [
      "[1, 2, 3, 4, 5, 6, 7]\n"
     ]
    }
   ],
   "source": [
    "# 4) Dada uma lista, solicite ao usuário que digite um número. \n",
    "# O número digitado deve ser removido da lista, caso esteja presente.\n",
    "\n",
    "lista = [1, 2, 3, 4, 5, 6, 7]\n",
    "entrada = int(input(\"Digite um número\"))\n",
    "\n",
    "try:\n",
    "    lista.remove(entrada)\n",
    "except:\n",
    "    pass\n",
    "\n",
    "print(lista)"
   ]
  }
 ],
 "metadata": {
  "kernelspec": {
   "display_name": ".venv",
   "language": "python",
   "name": "python3"
  },
  "language_info": {
   "codemirror_mode": {
    "name": "ipython",
    "version": 3
   },
   "file_extension": ".py",
   "mimetype": "text/x-python",
   "name": "python",
   "nbconvert_exporter": "python",
   "pygments_lexer": "ipython3",
   "version": "3.12.0"
  }
 },
 "nbformat": 4,
 "nbformat_minor": 2
}
