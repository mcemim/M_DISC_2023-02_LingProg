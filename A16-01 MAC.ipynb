{
 "cells": [
  {
   "cell_type": "code",
   "execution_count": 10,
   "metadata": {},
   "outputs": [
    {
     "name": "stdout",
     "output_type": "stream",
     "text": [
      "Elementos:\n",
      "{0, 1, 2, 3, 4, 5}\n",
      "Item 5 removido:\n",
      "{0, 1, 2, 3, 4}\n"
     ]
    }
   ],
   "source": [
    "# 1) Escreva um programa para remover um item se ele estiver presente no conjunto. \n",
    "# O item deve ser digitado pelo usuário\n",
    "\n",
    "num_set = set([0, 1, 2, 3, 4, 5])\n",
    "entrada = int(input(\"Digite um número\"))\n",
    "print(\"Elementos:\")\n",
    "print(num_set)\n",
    "print(f'Item {entrada} removido:')\n",
    "num_set.remove(entrada)\n",
    "print(num_set)\n"
   ]
  },
  {
   "cell_type": "code",
   "execution_count": 14,
   "metadata": {},
   "outputs": [
    {
     "name": "stdout",
     "output_type": "stream",
     "text": [
      "\n",
      "a) o conjunto y é subconjunto de x? True\n",
      "b) o conjunto x é subconjunto de y? False\n",
      "c) o conjunto z é subconjunto de y? True\n",
      "d) o conjunto z é subconjunto de x? True\n"
     ]
    }
   ],
   "source": [
    "# 2) Faça um programa que verifique se:\n",
    "# a) o conjunto y é subconjunto de x\n",
    "# b) o conjunto x é subconjunto de y\n",
    "# c) o conjunto z é subconjunto de y\n",
    "# d) o conjunto z é subconjunto de x\n",
    "\n",
    "x = set(['cavalo','ovelha','cabra'])\n",
    "y = set(['ovelha','cabra'])\n",
    "z = set(['ovelha'])\n",
    "\n",
    "print()\n",
    "print(\"a) o conjunto y é subconjunto de x?\", y.issubset(x))\n",
    "print(\"b) o conjunto x é subconjunto de y?\", x.issubset(y))\n",
    "print(\"c) o conjunto z é subconjunto de y?\", z.issubset(y))\n",
    "print(\"d) o conjunto z é subconjunto de x?\", z.issubset(x))"
   ]
  },
  {
   "cell_type": "code",
   "execution_count": 16,
   "metadata": {},
   "outputs": [
    {
     "name": "stdout",
     "output_type": "stream",
     "text": [
      "{1, 2, 3, 4, 5}\n",
      "{4, 5, 6, 7, 8}\n",
      "\n",
      "{1, 2, 3}\n"
     ]
    }
   ],
   "source": [
    "# 3) Escreva um programa que encontre os elementos do conjunto A1 que não estejam no conjunto A2.\n",
    "\n",
    "A1 = {1,2,3,4,5}\n",
    "A2 = {4,5,6,7,8}\n",
    "\n",
    "print(A1)\n",
    "print(A2)\n",
    "print()\n",
    "print(A1-A2)"
   ]
  },
  {
   "cell_type": "code",
   "execution_count": 18,
   "metadata": {},
   "outputs": [
    {
     "name": "stdout",
     "output_type": "stream",
     "text": [
      "{50, 20, 40, 10, 30}\n",
      "{50, 70, 40, 60, 30}\n",
      "\n",
      "{20, 70, 10, 60}\n"
     ]
    }
   ],
   "source": [
    "# 4) Faça um programa que encontre os elementos presentes no conjunto A ou no conjunto B, mas não em ambos.\n",
    "\n",
    "A = {10, 20, 30, 40, 50}\n",
    "B = {30, 40, 50, 60, 70}\n",
    "\n",
    "print(A)\n",
    "print(B)\n",
    "print()\n",
    "print(A^B)"
   ]
  },
  {
   "cell_type": "code",
   "execution_count": 36,
   "metadata": {},
   "outputs": [
    {
     "name": "stdout",
     "output_type": "stream",
     "text": [
      "Feliz Natal!\n"
     ]
    }
   ],
   "source": [
    "saudacoes = [\n",
    "    ('brasil', 'Feliz Natal!'),\n",
    "    ('alemanha', 'Frohliche Weihnachten!'),\n",
    "    ('austria', 'Frohe Weihnacht!'),\n",
    "    ('coreia', 'Chuk Sung Tan!'),\n",
    "    ('espanha', 'Feliz Navidad!'),\n",
    "    ('grecia', 'Kala Christougena!'),\n",
    "    ('estados unidos', 'Merry Christmas!'),\n",
    "    ('inglaterra', 'Merry Christmas!'),\n",
    "    ('australia', 'Merry Christmas!'),\n",
    "    ('portugal', 'Feliz Natal!'),\n",
    "    ('suecia', 'God Jul!'),\n",
    "    ('turquia', 'Mutlu Noeller'),\n",
    "    ('argentina', 'Feliz Navidad!'),\n",
    "    ('chile', 'Feliz Navidad!'),\n",
    "    ('mexico', 'Feliz Navidad!'),\n",
    "    ('antardida', 'Merry Christmas!'),\n",
    "    ('canada', 'Merry Christmas!'),\n",
    "    ('irlanda', 'Nollaig Shona Dhuit!'),\n",
    "    ('belgica', 'Zalig Kerstfeest!'),\n",
    "    ('italia', 'Buon Natale!'),\n",
    "    ('libia', 'Buon Natale!'),\n",
    "    ('siria', 'Milad Mubarak!'),\n",
    "    ('marrocos', 'Milad Mubarak!'),\n",
    "    ('japao', 'Merii Kurisumasu!')\n",
    "    ]\n",
    "\n",
    "while True:\n",
    "    try:\n",
    "        saudacao = '--- NOT FOUND ---' \n",
    "        pais = input().lower()\n",
    "        for p, s in saudacoes:\n",
    "            if pais == p:\n",
    "                saudacao = s\n",
    "        print(saudacao)\n",
    "    except EOFError:\n",
    "        break"
   ]
  },
  {
   "cell_type": "code",
   "execution_count": 34,
   "metadata": {},
   "outputs": [
    {
     "name": "stdout",
     "output_type": "stream",
     "text": [
      "43 53\n"
     ]
    }
   ],
   "source": [
    "word = 'bid'\n",
    "\n",
    "text = 'see a bear sell stock see a bull buy stock bid stock bid stock hear the bell'\n",
    "\n",
    "pos=0\n",
    "found_pos = []\n",
    "for idx, w in enumerate(text.split()):\n",
    "    if w != word:\n",
    "        pos += len(w)+1\n",
    "    else:\n",
    "        found_pos.append(pos)\n",
    "        pos += len(w)+1\n",
    "\n",
    "if len(found_pos):\n",
    "    print(*[x for x in found_pos], sep = ' ')\n",
    "else:\n",
    "    print(-1)"
   ]
  },
  {
   "cell_type": "code",
   "execution_count": null,
   "metadata": {},
   "outputs": [],
   "source": [
    "n = int(input())\n",
    "\n",
    "for _ in range(n):\n",
    "    text = input().split(' ')\n",
    "    word = input()\n",
    "    for idx, w in enumerate(text):\n",
    "        if w == word:\n",
    "            print("
   ]
  }
 ],
 "metadata": {
  "kernelspec": {
   "display_name": ".venv",
   "language": "python",
   "name": "python3"
  },
  "language_info": {
   "codemirror_mode": {
    "name": "ipython",
    "version": 3
   },
   "file_extension": ".py",
   "mimetype": "text/x-python",
   "name": "python",
   "nbconvert_exporter": "python",
   "pygments_lexer": "ipython3",
   "version": "3.12.0"
  }
 },
 "nbformat": 4,
 "nbformat_minor": 2
}
