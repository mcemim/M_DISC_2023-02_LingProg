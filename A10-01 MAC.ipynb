{
 "cells": [
  {
   "cell_type": "code",
   "execution_count": 2,
   "metadata": {},
   "outputs": [
    {
     "name": "stdout",
     "output_type": "stream",
     "text": [
      "Universidade Tecnológica Federal do Paraná\n"
     ]
    }
   ],
   "source": [
    "S = 'Universidade'\n",
    "T = 'Tecnológica'\n",
    "R = 'Federal'\n",
    "U = 'do'\n",
    "X = 'Paraná'\n",
    "\n",
    "K = S+' '+T+' '+R+' '+U+' '+X\n",
    "\n",
    "print(K)"
   ]
  },
  {
   "cell_type": "code",
   "execution_count": 14,
   "metadata": {},
   "outputs": [
    {
     "name": "stdout",
     "output_type": "stream",
     "text": [
      "Hoje \n",
      "02468\n",
      "9 8 7 6 5 4 3 2 1 0"
     ]
    }
   ],
   "source": [
    "string1 = 'Bom dia. Hoje o dia está ensolarado'\n",
    "string2 = '0123456789'\n",
    "string3 = '0 1 2 3 4 5 6 7 8 9'\n",
    "\n",
    "print(string1[9:14])\n",
    "for n in string2:\n",
    "    print(f'{n if int(n)%2 == 0 else ''}', end ='')\n",
    "print()\n",
    "for n in reversed(string3):\n",
    "    print(n, end = '')"
   ]
  },
  {
   "cell_type": "code",
   "execution_count": 15,
   "metadata": {},
   "outputs": [
    {
     "name": "stdout",
     "output_type": "stream",
     "text": [
      "Mar\n"
     ]
    }
   ],
   "source": [
    "nome = input(\"Digite seu nome\")\n",
    "qtd = int(input('Quantos caracteres deseja exibir?'))\n",
    "print(nome[:qtd])"
   ]
  }
 ],
 "metadata": {
  "kernelspec": {
   "display_name": ".venv",
   "language": "python",
   "name": "python3"
  },
  "language_info": {
   "codemirror_mode": {
    "name": "ipython",
    "version": 3
   },
   "file_extension": ".py",
   "mimetype": "text/x-python",
   "name": "python",
   "nbconvert_exporter": "python",
   "pygments_lexer": "ipython3",
   "version": "3.12.0"
  }
 },
 "nbformat": 4,
 "nbformat_minor": 2
}
