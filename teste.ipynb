{
 "cells": [
  {
   "cell_type": "code",
   "execution_count": 14,
   "metadata": {},
   "outputs": [
    {
     "name": "stdout",
     "output_type": "stream",
     "text": [
      "[4, 19, 12]\n",
      "[21, 30, 16]\n",
      "Pontos de Saque: 19.05 %.\n",
      "Pontos de Bloqueio: 63.33 %.\n",
      "Pontos de Ataque: 75.00 %.\n"
     ]
    }
   ],
   "source": [
    "jogadores = int(input())\n",
    "\n",
    "attempts = [0,0,0]\n",
    "score = [0,0,0]\n",
    "for i in range(jogadores):\n",
    "    name = input()\n",
    "    attempts = [x + y for x, y in zip(attempts, map(int, input().split()))]\n",
    "    score = [x + y for x, y in zip(score, map(int, input().split()))]\n",
    "    \n",
    "    \n",
    "print(score)\n",
    "print(attempts)\n",
    "print(f\"Pontos de Saque: {100 * score[0] / attempts[0]:.2f} %.\")\n",
    "print(f\"Pontos de Bloqueio: {100 * score[1] / attempts[1]:.2f} %.\")\n",
    "print(f\"Pontos de Ataque: {100 * score[2] / attempts[2]:.2f} %.\")"
   ]
  },
  {
   "cell_type": "code",
   "execution_count": 19,
   "metadata": {},
   "outputs": [
    {
     "name": "stdout",
     "output_type": "stream",
     "text": [
      "5\n"
     ]
    }
   ],
   "source": [
    "n_lista = int(input())\n",
    "lista_alunos = []\n",
    "\n",
    "for _ in range(n_lista):\n",
    "    aluno = int(input())\n",
    "    if aluno not in lista_alunos:\n",
    "        lista_alunos.append(aluno)\n",
    "\n",
    "print(len(lista_alunos))"
   ]
  },
  {
   "cell_type": "code",
   "execution_count": 74,
   "metadata": {},
   "outputs": [
    {
     "name": "stdout",
     "output_type": "stream",
     "text": [
      "Nada\n",
      "Nada\n",
      "Nada\n",
      "Super\n",
      "Super\n",
      "Nada\n"
     ]
    },
    {
     "ename": "ValueError",
     "evalue": "invalid literal for int() with base 10: ''",
     "output_type": "error",
     "traceback": [
      "\u001b[1;31m---------------------------------------------------------------------------\u001b[0m",
      "\u001b[1;31mValueError\u001b[0m                                Traceback (most recent call last)",
      "\u001b[1;32mc:\\Users\\mcemi\\Documents\\Mestrado\\Linguagens de Programação\\teste.ipynb Cell 3\u001b[0m line \u001b[0;36m1\n\u001b[0;32m     <a href='vscode-notebook-cell:/c%3A/Users/mcemi/Documents/Mestrado/Linguagens%20de%20Programa%C3%A7%C3%A3o/teste.ipynb#W4sZmlsZQ%3D%3D?line=12'>13</a>\u001b[0m \u001b[39mwhile\u001b[39;00m \u001b[39mTrue\u001b[39;00m:\n\u001b[0;32m     <a href='vscode-notebook-cell:/c%3A/Users/mcemi/Documents/Mestrado/Linguagens%20de%20Programa%C3%A7%C3%A3o/teste.ipynb#W4sZmlsZQ%3D%3D?line=13'>14</a>\u001b[0m     \u001b[39mtry\u001b[39;00m:\n\u001b[1;32m---> <a href='vscode-notebook-cell:/c%3A/Users/mcemi/Documents/Mestrado/Linguagens%20de%20Programa%C3%A7%C3%A3o/teste.ipynb#W4sZmlsZQ%3D%3D?line=14'>15</a>\u001b[0m         N \u001b[39m=\u001b[39m \u001b[39mint\u001b[39;49m(\u001b[39minput\u001b[39;49m())\n\u001b[0;32m     <a href='vscode-notebook-cell:/c%3A/Users/mcemi/Documents/Mestrado/Linguagens%20de%20Programa%C3%A7%C3%A3o/teste.ipynb#W4sZmlsZQ%3D%3D?line=16'>17</a>\u001b[0m         main_prime \u001b[39m=\u001b[39m isprime(N)\n\u001b[0;32m     <a href='vscode-notebook-cell:/c%3A/Users/mcemi/Documents/Mestrado/Linguagens%20de%20Programa%C3%A7%C3%A3o/teste.ipynb#W4sZmlsZQ%3D%3D?line=17'>18</a>\u001b[0m         sec_primes \u001b[39m=\u001b[39m []\n",
      "\u001b[1;31mValueError\u001b[0m: invalid literal for int() with base 10: ''"
     ]
    }
   ],
   "source": [
    "\n",
    "\n",
    "def isprime(N):\n",
    "    \n",
    "    if N <= 1:\n",
    "        return False\n",
    "    elif N <= 3:\n",
    "        return True\n",
    "    elif N % 2 == 0 or N % 3 == 0:\n",
    "        return False\n",
    "    for i in range(5, int(N**0.5) + 1, 6):\n",
    "        if N % i == 0 or N % (i + 2) == 0:\n",
    "            return False\n",
    "    return True\n",
    "        \n",
    "while True:\n",
    "    try:\n",
    "        N = int(input())\n",
    "\n",
    "        main_prime = isprime(N)\n",
    "        sec_primes = []\n",
    "        for d in str(N):\n",
    "            sec_primes.append(isprime(int(d)))\n",
    "\n",
    "        if main_prime:\n",
    "            if False in sec_primes:\n",
    "                print(\"Primo\")\n",
    "            else:\n",
    "                print(\"Super\")\n",
    "        else:\n",
    "            print(\"Nada\")\n",
    "        \n",
    "    except EOFError:\n",
    "        break"
   ]
  },
  {
   "cell_type": "code",
   "execution_count": 71,
   "metadata": {},
   "outputs": [
    {
     "name": "stdout",
     "output_type": "stream",
     "text": [
      "Super\n"
     ]
    }
   ],
   "source": [
    "def is_prime(number):\n",
    "    if number <= 1:\n",
    "        return False\n",
    "    if number <= 3:\n",
    "        return True\n",
    "\n",
    "    if number % 2 == 0 or number % 3 == 0:\n",
    "        return False\n",
    "\n",
    "    for i in range(5, int(number**0.5) + 1, 6):\n",
    "        if number % i == 0 or number % (i + 2) == 0:\n",
    "            return False\n",
    "\n",
    "    return True\n",
    "\n",
    "def is_super_prime(number):\n",
    "    if is_prime(number):\n",
    "        while number > 0:\n",
    "            digit = number % 10\n",
    "            if not is_prime(digit):\n",
    "                return False\n",
    "            number //= 10\n",
    "        return True\n",
    "    return False\n",
    "\n",
    "while True:\n",
    "    try:\n",
    "        N = int(input())\n",
    "        if is_super_prime(N):\n",
    "            print(\"Super\")\n",
    "        elif is_prime(N):\n",
    "            print(\"Primo\")\n",
    "        else:\n",
    "            print(\"Nada\")\n",
    "    except EOFError:\n",
    "        break"
   ]
  }
 ],
 "metadata": {
  "kernelspec": {
   "display_name": ".venv",
   "language": "python",
   "name": "python3"
  },
  "language_info": {
   "codemirror_mode": {
    "name": "ipython",
    "version": 3
   },
   "file_extension": ".py",
   "mimetype": "text/x-python",
   "name": "python",
   "nbconvert_exporter": "python",
   "pygments_lexer": "ipython3",
   "version": "3.12.0"
  }
 },
 "nbformat": 4,
 "nbformat_minor": 2
}
