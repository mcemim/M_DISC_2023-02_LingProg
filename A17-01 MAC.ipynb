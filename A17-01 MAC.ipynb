{
 "cells": [
  {
   "cell_type": "markdown",
   "metadata": {},
   "source": [
    "# Dicionários"
   ]
  },
  {
   "cell_type": "code",
   "execution_count": 1,
   "metadata": {},
   "outputs": [
    {
     "name": "stdout",
     "output_type": "stream",
     "text": [
      "Pedro\n",
      "A chave está no dicionário\n"
     ]
    }
   ],
   "source": [
    "# 1) Escreva um programa que mostre a frase 'A chave está no dicionário' se uma chave digitada pelo usuário estiver no dicionário. \n",
    "# Caso a chave digitada não esteja no dicionário, a frase exibida deve ser 'A chave não está no dicionário'.\n",
    "\n",
    "D = {\n",
    "    'Marcos': 19,\n",
    "    'Paulo': 22,\n",
    "    'João': 21,\n",
    "    'Pedro': 20\n",
    "}\n",
    "\n",
    "chave = input()\n",
    "print(chave)\n",
    "if chave in D.keys():\n",
    "    print('A chave está no dicionário')\n",
    "else:\n",
    "    print('A chave não está no dicionário')"
   ]
  },
  {
   "cell_type": "code",
   "execution_count": 2,
   "metadata": {},
   "outputs": [
    {
     "name": "stdout",
     "output_type": "stream",
     "text": [
      "Maior valor: 112\n",
      "Menor valor: 12\n"
     ]
    }
   ],
   "source": [
    "# 2) Escreva um programa que encontre o maior e o menor valor no dicionário exibido abaixo.\n",
    "D = {'w': 112, 'x': 12, 'y': 99, 'z': 60}\n",
    "\n",
    "print(f'Maior valor: {max(D.values())}')\n",
    "print(f'Menor valor: {min(D.values())}')"
   ]
  },
  {
   "cell_type": "code",
   "execution_count": 3,
   "metadata": {},
   "outputs": [
    {
     "name": "stdout",
     "output_type": "stream",
     "text": [
      "['verde', 'amarelo', 'azul', 'branco', 'vermelho']\n"
     ]
    }
   ],
   "source": [
    "# 3) Dado o dicionário abaixo, calcule a quantidade de ítens que estão dentro das listas armazenadas nos dicionários.\n",
    "\n",
    "D = {\n",
    "    'Brasil': ['verde', 'amarelo', 'azul'],\n",
    "    'Italia': ['branco', 'verde', 'vermelho'],\n",
    "    'Espanha': ['amarelo', 'vermelho']\n",
    "}\n",
    "\n",
    "unique = []\n",
    "\n",
    "for l in D.values():\n",
    "    for i in l:\n",
    "        if i not in unique:\n",
    "            unique.append(i)\n",
    "\n",
    "print(unique)"
   ]
  },
  {
   "cell_type": "code",
   "execution_count": 4,
   "metadata": {},
   "outputs": [
    {
     "name": "stdout",
     "output_type": "stream",
     "text": [
      "('Claudio', 56) está presente em A and B\n",
      "('Marcos', 8) está presente em A and B\n"
     ]
    }
   ],
   "source": [
    "# 4) Escreva um programa que compara dois dicionários e encontre itens (chave associada a um valor) que estão presentes em ambos os dicionários.\n",
    "\n",
    "A = {'Pedro': 92, 'Claudio': 56, 'Marcia': 88, 'Carlos': 17, 'Marcos': 8}\n",
    "B = {'Valdir': 70, 'Marcos': 8, 'Claudio': 56, 'Luiz': 97, 'Pedro': 12}\n",
    "\n",
    "for k in A.items():\n",
    "    if k in B.items():\n",
    "        print(f'{k} está presente em A and B')"
   ]
  },
  {
   "cell_type": "code",
   "execution_count": 5,
   "metadata": {},
   "outputs": [
    {
     "name": "stdout",
     "output_type": "stream",
     "text": [
      "7\n"
     ]
    }
   ],
   "source": [
    "# 5) Imprima o valor da chave \"Matemática\" do dicionário abaixo.\n",
    "\n",
    "D = {\n",
    "    \"classe\": {\n",
    "        \"estudante\": {\n",
    "            \"nome\": \"Carlos\",\n",
    "            \"nota\": {\n",
    "                \"Matemática\": 7,\n",
    "                \"Química\": 8\n",
    "            }\n",
    "        }\n",
    "    }\n",
    "}\n",
    "\n",
    "print(D[\"classe\"][\"estudante\"][\"nota\"][\"Matemática\"])"
   ]
  }
 ],
 "metadata": {
  "kernelspec": {
   "display_name": ".venv",
   "language": "python",
   "name": "python3"
  },
  "language_info": {
   "codemirror_mode": {
    "name": "ipython",
    "version": 3
   },
   "file_extension": ".py",
   "mimetype": "text/x-python",
   "name": "python",
   "nbconvert_exporter": "python",
   "pygments_lexer": "ipython3",
   "version": "3.12.0"
  }
 },
 "nbformat": 4,
 "nbformat_minor": 2
}
