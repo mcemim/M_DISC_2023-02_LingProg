{
 "cells": [
  {
   "cell_type": "markdown",
   "metadata": {},
   "source": [
    "1) Complete o código usando o comando 'try-except' para que o programa trate o erro de forma genérica."
   ]
  },
  {
   "cell_type": "code",
   "execution_count": 1,
   "metadata": {},
   "outputs": [
    {
     "name": "stdout",
     "output_type": "stream",
     "text": [
      "Erro encontrado\n"
     ]
    }
   ],
   "source": [
    "a = 5\n",
    "b = 0\n",
    "\n",
    "try:\n",
    "    print(a/b)\n",
    "except:\n",
    "    print(\"Erro encontrado\")"
   ]
  },
  {
   "cell_type": "markdown",
   "metadata": {},
   "source": [
    "2) A exceção 'ZeroDivisionError' refere-se ao erro provocado pela tentativa de divisão por zero. Use essa cláusula de exceção e complete o código para que o programa trate o erro na tentativa de divisão por zero de forma específica."
   ]
  },
  {
   "cell_type": "code",
   "execution_count": 4,
   "metadata": {},
   "outputs": [
    {
     "name": "stdout",
     "output_type": "stream",
     "text": [
      "Não é possível dividir um número por 0\n"
     ]
    }
   ],
   "source": [
    "a = 5\n",
    "b = 0\n",
    "\n",
    "try:\n",
    "    print(a/b)\n",
    "except ZeroDivisionError:\n",
    "    print(\"Não é possível dividir um número por 0\")\n",
    "except:\n",
    "    print(\"Erro encontrado\")"
   ]
  },
  {
   "cell_type": "markdown",
   "metadata": {},
   "source": [
    "3) Construa uma rotina de tratamento de erros que trate de forma específica o erros exibidos quando o programa tenta imprimir uma variável não declarada e o quando há uma tentativa de divisão por zero. O código deve considerar também exibir uma mensagem de erro genérica, caso o erro encontrado seja de um tipo diferente dos mencionados. Quando o comando 'print(a/b)' é colocado dentro do 'try', a mensagem exibida deve ser 'Não é possível dividir um número por zero'. Quando o comando 'print(x)' é colocado dentro do 'try', a mensagem exibida deve ser 'A variável 'x' não foi declarada'. Caso nenhum desses erros sejam identificados, a mensagem exibida deve ser 'Ocorreu um erro não identificado'."
   ]
  },
  {
   "cell_type": "code",
   "execution_count": 6,
   "metadata": {},
   "outputs": [
    {
     "name": "stdout",
     "output_type": "stream",
     "text": [
      "Não é possível dividir um número por 0\n"
     ]
    }
   ],
   "source": [
    "a = 5\n",
    "b = 0\n",
    "\n",
    "try:\n",
    "    print(a/b)\n",
    "except NameError:\n",
    "    print(\"A variável não foi declarada\")\n",
    "except ZeroDivisionError:\n",
    "    print(\"Não é possível dividir um número por 0\")\n",
    "except:\n",
    "    print(\"Ocorreu um erro não identificado\")"
   ]
  },
  {
   "cell_type": "markdown",
   "metadata": {},
   "source": [
    "4) Complete o código usando o comando 'raise' para garantir que uma exceção seja exibida quando o valor verificado não seja do tipo float. A saída deve ser como a exibida abaixo."
   ]
  },
  {
   "cell_type": "code",
   "execution_count": 36,
   "metadata": {},
   "outputs": [],
   "source": [
    "x=input()\n",
    "\n",
    "try:\n",
    "    float(x)\n",
    "except:\n",
    "    raise TypeError(\"Apenas valores floats são permitidos\")\n"
   ]
  }
 ],
 "metadata": {
  "kernelspec": {
   "display_name": ".venv",
   "language": "python",
   "name": "python3"
  },
  "language_info": {
   "codemirror_mode": {
    "name": "ipython",
    "version": 3
   },
   "file_extension": ".py",
   "mimetype": "text/x-python",
   "name": "python",
   "nbconvert_exporter": "python",
   "pygments_lexer": "ipython3",
   "version": "3.12.0"
  }
 },
 "nbformat": 4,
 "nbformat_minor": 2
}
