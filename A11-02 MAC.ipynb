{
 "cells": [
  {
   "cell_type": "code",
   "execution_count": 2,
   "metadata": {},
   "outputs": [
    {
     "name": "stdout",
     "output_type": "stream",
     "text": [
      "['Azul', 'Amarelo', 'Vermelho']\n"
     ]
    }
   ],
   "source": [
    "# 1) Dada a lista abaixo, escreva um programa que crie uma nova lista com os três primeiros elementos. Imprima a nova lista na tela.\n",
    "\n",
    "cores = ['Azul','Amarelo','Vermelho','Preto','Branco']\n",
    "print(cores[:3])"
   ]
  },
  {
   "cell_type": "code",
   "execution_count": 3,
   "metadata": {},
   "outputs": [
    {
     "name": "stdout",
     "output_type": "stream",
     "text": [
      "1\n",
      "82\n",
      "388\n"
     ]
    }
   ],
   "source": [
    "#2) Dada a lista abaixo, faça um programa que encontre e imprima na tela o menor elemento, \n",
    "# o maior elemento e a soma dos elementos da lista.\n",
    "\n",
    "nums = [23, 22, 44, 17, 77, 55, 1, 65, 82, 2]\n",
    "print(min(nums))\n",
    "print(max(nums))\n",
    "print(sum(nums))"
   ]
  },
  {
   "cell_type": "code",
   "execution_count": 4,
   "metadata": {},
   "outputs": [
    {
     "name": "stdout",
     "output_type": "stream",
     "text": [
      "['Blue', 'Amarelo', 'Vermelho', 'Preto', 'White']\n"
     ]
    }
   ],
   "source": [
    "# 3) Dada a lista abaixo, substitua o primeiro e o último elemento pelos valores 'Blue' e 'White', respectivamente\n",
    "\n",
    "cores = ['Azul','Amarelo','Vermelho','Preto','Branco']\n",
    "cores[0] = 'Blue'\n",
    "cores[-1] = 'White'\n",
    "\n",
    "print(cores)"
   ]
  },
  {
   "cell_type": "code",
   "execution_count": 6,
   "metadata": {},
   "outputs": [
    {
     "name": "stdout",
     "output_type": "stream",
     "text": [
      "['Green', 'White']\n"
     ]
    }
   ],
   "source": [
    "# 4) Escreva um programa para encontrar os itens que são comuns em duas listas.\n",
    "\n",
    "cores1 = ['Red','Green','Orange', 'White']\n",
    "cores2 = ['Black','Green','White','Pink']\n",
    "\n",
    "comuns = []\n",
    "\n",
    "for c in cores1:\n",
    "    if c in cores2:\n",
    "        comuns.append(c)\n",
    "\n",
    "print(comuns)"
   ]
  }
 ],
 "metadata": {
  "kernelspec": {
   "display_name": ".venv",
   "language": "python",
   "name": "python3"
  },
  "language_info": {
   "codemirror_mode": {
    "name": "ipython",
    "version": 3
   },
   "file_extension": ".py",
   "mimetype": "text/x-python",
   "name": "python",
   "nbconvert_exporter": "python",
   "pygments_lexer": "ipython3",
   "version": "3.12.0"
  }
 },
 "nbformat": 4,
 "nbformat_minor": 2
}
