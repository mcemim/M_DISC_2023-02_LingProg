{
 "cells": [
  {
   "cell_type": "code",
   "execution_count": 1,
   "metadata": {},
   "outputs": [
    {
     "name": "stdout",
     "output_type": "stream",
     "text": [
      "[3, 4]\n"
     ]
    }
   ],
   "source": [
    "# 1) Escreva uma função que receba duas listas L1 e L2 como parâmetro de entrada e retorne uma lista que seja a interseção de L1 e L2,\n",
    "# em que uma lista interseção é aquela que contém os elementos que estejam presentes em ambas, L1 e L2.\n",
    "def intersecao(L1, L2):\n",
    "    res = []\n",
    "    for i in L1:\n",
    "        if i in L2:\n",
    "            res.append(i)\n",
    "    return res\n",
    "\n",
    "\n",
    "L1 = [1,2,3,4]\n",
    "L2 = [3,4,5,6]\n",
    "print(intersecao(L1,L2))"
   ]
  },
  {
   "cell_type": "code",
   "execution_count": 2,
   "metadata": {},
   "outputs": [
    {
     "name": "stdout",
     "output_type": "stream",
     "text": [
      "{'Carro': 'Terrestre', 'Navio': 'Auqático', 'Bicicleta': 'Terrestre'}\n"
     ]
    }
   ],
   "source": [
    "# 2) Escreva uma função que imprima um dicinário, passado como parâmetro.\n",
    "\n",
    "def veiculos(dic):\n",
    "    print(dic)\n",
    "\n",
    "dicVec = {\n",
    "    'Carro': 'Terrestre',\n",
    "    'Navio': 'Auqático',\n",
    "    'Bicicleta': 'Terrestre'\n",
    "}\n",
    "\n",
    "veiculos(dicVec)"
   ]
  },
  {
   "cell_type": "code",
   "execution_count": 3,
   "metadata": {},
   "outputs": [
    {
     "name": "stdout",
     "output_type": "stream",
     "text": [
      "verde\n",
      "amarelo\n",
      "verde\n",
      "amarelo\n",
      "azul\n",
      "branco\n"
     ]
    }
   ],
   "source": [
    "# 3) Escreva uma função que receba uma quantidade variável de parâmetros e imprima todos eles.\n",
    "\n",
    "def imprime(*argv):\n",
    "    for arg in argv:\n",
    "        print(arg)\n",
    "        \n",
    "imprime('verde', 'amarelo')\n",
    "imprime('verde', 'amarelo', 'azul', 'branco')"
   ]
  },
  {
   "cell_type": "code",
   "execution_count": 4,
   "metadata": {},
   "outputs": [
    {
     "name": "stdout",
     "output_type": "stream",
     "text": [
      "8 * 1 = 8\n",
      "8 * 2 = 16\n",
      "8 * 3 = 24\n",
      "8 * 4 = 32\n",
      "8 * 5 = 40\n",
      "8 * 6 = 48\n",
      "8 * 7 = 56\n",
      "8 * 8 = 64\n",
      "8 * 9 = 72\n",
      "8 * 10 = 80\n"
     ]
    }
   ],
   "source": [
    "# 4)Escreva um programa que solicite ao usuário um número inteiro. \n",
    "# Faça uma função que imprima a tabuada desse número. \n",
    "# Caso o valor digitado seja menor que zero ou maior que 11, um novo valor deve ser solicitado ao usuário.\n",
    "\n",
    "def tabuada(n):\n",
    "    for i in range(1, 11):\n",
    "        print(f'{n} * {i} = {n*i}')\n",
    "        \n",
    "num = int(input(\"Digite um valor:\"))\n",
    "tabuada(num)"
   ]
  },
  {
   "cell_type": "code",
   "execution_count": 5,
   "metadata": {},
   "outputs": [
    {
     "name": "stdout",
     "output_type": "stream",
     "text": [
      "5 + 3 = 8\n"
     ]
    }
   ],
   "source": [
    "# 5) Escreva um programa que solicite dois números ao usuário. \n",
    "# Em seguida, pergunte se o programa deve somar, subtrair, dividir ou multiplicar esses números. \n",
    "# Realize a operação escolhida utilizando os valores e mostre na tela a operação que está sendo realizada. \n",
    "# Escreva quatro funções, uma para cada operação matemática. Exemplo: somar(), subtrair(), multiplicar() e dividir().\n",
    "\n",
    "def somar(x, y):\n",
    "    return x+y\n",
    "\n",
    "def subtrair(x,y):\n",
    "    return x-y\n",
    "\n",
    "def multiplicar(x, y):\n",
    "    return x*y\n",
    "\n",
    "def dividir(x, y):\n",
    "    return x/y\n",
    "\n",
    "num1 = int(input(\"Digite o primeiro número:\"))\n",
    "num2 = int(input(\"Digite o segundo número:\"))\n",
    "while True:\n",
    "    op = (input(\"Digite a operação (+, -, * ou /):\"))\n",
    "    if op not in [\"+\", \"-\", '*', '/']:\n",
    "        print(\"Náo entendi... Digite um operador válido!\")\n",
    "    else:\n",
    "        break\n",
    "\n",
    "if op == '+':\n",
    "    res = somar(num1, num2)    \n",
    "elif op == '-':\n",
    "    res = subtrair(num1, num2)    \n",
    "elif op == '*':\n",
    "    res = multiplicar(num1, num2)    \n",
    "elif op == '/':\n",
    "    res = dividir(num1, num2)    \n",
    "\n",
    "print(f'{num1} {op} {num2} = {res}')"
   ]
  }
 ],
 "metadata": {
  "kernelspec": {
   "display_name": ".venv",
   "language": "python",
   "name": "python3"
  },
  "language_info": {
   "codemirror_mode": {
    "name": "ipython",
    "version": 3
   },
   "file_extension": ".py",
   "mimetype": "text/x-python",
   "name": "python",
   "nbconvert_exporter": "python",
   "pygments_lexer": "ipython3",
   "version": "3.12.0"
  }
 },
 "nbformat": 4,
 "nbformat_minor": 2
}
