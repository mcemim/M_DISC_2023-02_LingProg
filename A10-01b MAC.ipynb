{
 "cells": [
  {
   "cell_type": "code",
   "execution_count": 3,
   "metadata": {},
   "outputs": [
    {
     "name": "stdout",
     "output_type": "stream",
     "text": [
      "4\n",
      "6\n"
     ]
    }
   ],
   "source": [
    "from unicodedata import normalize \n",
    "S = \"Departamento Acadêmico de Computação\"\n",
    "print(S.count('a'))\n",
    "print(normalize(\"NFD\", S).lower().count('a'))"
   ]
  },
  {
   "cell_type": "code",
   "execution_count": 9,
   "metadata": {},
   "outputs": [
    {
     "name": "stdout",
     "output_type": "stream",
     "text": [
      "No texto \"teste123^~´´{}\", foram encontrados 5 letras, 3 dígitos e 6 caracteres especiais.\n"
     ]
    }
   ],
   "source": [
    "s = input(\"Digite um texto\")\n",
    "l,d,e = 0,0,0\n",
    "for a in s:\n",
    "    if a.isalpha():\n",
    "        l += 1\n",
    "    elif a.isnumeric():\n",
    "        d += 1\n",
    "    else:\n",
    "        e += 1\n",
    "print(f'No texto \"{s}\", foram encontrados {l} letras, {d} dígitos e {e} caracteres especiais.')\n"
   ]
  },
  {
   "cell_type": "code",
   "execution_count": 11,
   "metadata": {},
   "outputs": [
    {
     "name": "stdout",
     "output_type": "stream",
     "text": [
      "No texto \"ier987oih 87 8g23t \", foram encontrados 8 dígitos. A soma deles é 52 e a média é 6.50\n"
     ]
    }
   ],
   "source": [
    "s = input(\"Digite um texto\")\n",
    "count, sum = 0,0\n",
    "for a in s:\n",
    "    if a.isnumeric():\n",
    "        sum += int(a)\n",
    "        count += 1\n",
    "print(f'No texto \"{s}\", foram encontrados {count} dígitos. A soma deles é {sum} e a média é {sum/count:.2f}')"
   ]
  }
 ],
 "metadata": {
  "kernelspec": {
   "display_name": ".venv",
   "language": "python",
   "name": "python3"
  },
  "language_info": {
   "codemirror_mode": {
    "name": "ipython",
    "version": 3
   },
   "file_extension": ".py",
   "mimetype": "text/x-python",
   "name": "python",
   "nbconvert_exporter": "python",
   "pygments_lexer": "ipython3",
   "version": "3.12.0"
  }
 },
 "nbformat": 4,
 "nbformat_minor": 2
}
