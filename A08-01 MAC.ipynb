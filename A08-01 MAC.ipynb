{
 "cells": [
  {
   "cell_type": "markdown",
   "metadata": {},
   "source": [
    "1) Crie um programa que peça ao usuário para digitar um valor. Use o laço 'while' para que seja exibida na tela uma sequência que inicia em 1 e termina no valor digitado. Exemplo: quando o usuário digita 5, a saída do programa deve ser como a exibida abaixo. Use o comando 'while'."
   ]
  },
  {
   "cell_type": "code",
   "execution_count": 4,
   "metadata": {},
   "outputs": [
    {
     "name": "stdout",
     "output_type": "stream",
     "text": [
      "Digite um número:\n",
      "Contador = 1\n",
      "Contador = 2\n",
      "Contador = 3\n",
      "Contador = 4\n",
      "Contador = 5\n"
     ]
    }
   ],
   "source": [
    "print(\"Digite um número:\")\n",
    "max = int(input())\n",
    "n = 0\n",
    "while n < max:\n",
    "    print(f\"Contador = {(n := n+1)}\")"
   ]
  },
  {
   "cell_type": "markdown",
   "metadata": {},
   "source": [
    "2) No final do comando 'while', é possível utilizar a instrução 'else' para executar alguma instrução ou bloco de código no final do laço, Descubra a sintaxe da utilização do 'while-else' e modifique o programa anterior para exibir a frase 'Sequência finalizada' no final da execução."
   ]
  },
  {
   "cell_type": "code",
   "execution_count": 5,
   "metadata": {},
   "outputs": [
    {
     "name": "stdout",
     "output_type": "stream",
     "text": [
      "Digite um número:\n",
      "Contador = 1\n",
      "Contador = 2\n",
      "Contador = 3\n",
      "Contador = 4\n",
      "Contador = 5\n",
      "Sequencia Finalizada\n"
     ]
    }
   ],
   "source": [
    "print(\"Digite um número:\")\n",
    "max = int(input())\n",
    "n = 0\n",
    "while n < max:\n",
    "    print(f\"Contador = {(n := n+1)}\")\n",
    "else:\n",
    "    print(\"Sequência Finalizada\")"
   ]
  },
  {
   "cell_type": "markdown",
   "metadata": {},
   "source": [
    "3) Complete o código para calcular a média de 5 números digitados pelo usuário."
   ]
  },
  {
   "cell_type": "code",
   "execution_count": 7,
   "metadata": {},
   "outputs": [
    {
     "name": "stdout",
     "output_type": "stream",
     "text": [
      "Média dos números digitados: 10.0\n"
     ]
    }
   ],
   "source": [
    "p = 5\n",
    "soma = 0\n",
    "count = 0\n",
    "f = 0\n",
    "\n",
    "while count < p:\n",
    "    count += 1\n",
    "    (f := f+int(input(\"Digite um número: \")))\n",
    "else:\n",
    "    print(f\"Média dos números digitados: {f / count}\")"
   ]
  },
  {
   "cell_type": "markdown",
   "metadata": {},
   "source": [
    "4) Use o comando 'while-else' para fazer um programa que solicite ao usuário um número. A mensagem 'Digite zero para encerrar' deve ser exibida enquanto o usuário não digitar o valor zero. Quando o usuário digitar zero, o loop deve ser encerrado e a mensagem 'Encerrado' deve ser exibida. A saída mostrada abaixo deve ser utilizada como exemplo."
   ]
  },
  {
   "cell_type": "code",
   "execution_count": 8,
   "metadata": {},
   "outputs": [
    {
     "name": "stdout",
     "output_type": "stream",
     "text": [
      "Encerrado\n"
     ]
    }
   ],
   "source": [
    "n = int(input(\"Digite um número: \"))\n",
    "while n != 0:\n",
    "    n = int(input(\"Digite 0 para encerrar: \"))\n",
    "else:\n",
    "    print(\"Encerrado\")"
   ]
  },
  {
   "cell_type": "markdown",
   "metadata": {},
   "source": [
    "5) Complete o código para que o programa mostra os números de 1 a 5 e suas respectivas raízes quadradas, conforme saída mostrada abaixo."
   ]
  },
  {
   "cell_type": "code",
   "execution_count": 11,
   "metadata": {},
   "outputs": [
    {
     "name": "stdout",
     "output_type": "stream",
     "text": [
      "A raiz quadrada do número 1 é 1.0000\n",
      "A raiz quadrada do número 2 é 1.4142\n",
      "A raiz quadrada do número 3 é 1.7321\n",
      "A raiz quadrada do número 4 é 2.0000\n",
      "A raiz quadrada do número 5 é 2.2361\n"
     ]
    }
   ],
   "source": [
    "import math\n",
    "n=0\n",
    "while n<5:\n",
    "    print(f\"A raiz quadrada do número {(n := n+1)} é {math.sqrt(n):.4f}\")"
   ]
  }
 ],
 "metadata": {
  "kernelspec": {
   "display_name": ".venv",
   "language": "python",
   "name": "python3"
  },
  "language_info": {
   "codemirror_mode": {
    "name": "ipython",
    "version": 3
   },
   "file_extension": ".py",
   "mimetype": "text/x-python",
   "name": "python",
   "nbconvert_exporter": "python",
   "pygments_lexer": "ipython3",
   "version": "3.12.0"
  }
 },
 "nbformat": 4,
 "nbformat_minor": 2
}
