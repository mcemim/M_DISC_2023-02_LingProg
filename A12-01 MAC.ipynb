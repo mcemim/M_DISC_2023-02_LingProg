{
 "cells": [
  {
   "cell_type": "code",
   "execution_count": 1,
   "metadata": {},
   "outputs": [
    {
     "name": "stdout",
     "output_type": "stream",
     "text": [
      "[1, 2, 3, 4, 5, 6, 7, 8]\n"
     ]
    }
   ],
   "source": [
    "# 1) Escreva um programa Python para remover duplicatas de uma lista\n",
    "\n",
    "a = [1,2,3,7,2,1,5,6,4,8,5,4]\n",
    "b = list(set(a))\n",
    "print(b)"
   ]
  },
  {
   "cell_type": "code",
   "execution_count": 2,
   "metadata": {},
   "outputs": [
    {
     "name": "stdout",
     "output_type": "stream",
     "text": [
      "['Carlos', 'Paulo', 'Pedro']\n"
     ]
    }
   ],
   "source": [
    "# 2) Utilize um método da classe list para ordenar a lista dada.\n",
    "\n",
    "pess = ['Paulo','Pedro','Carlos']\n",
    "pess_sorted = sorted(pess)\n",
    "print(pess_sorted)"
   ]
  },
  {
   "cell_type": "code",
   "execution_count": 3,
   "metadata": {},
   "outputs": [
    {
     "name": "stdout",
     "output_type": "stream",
     "text": [
      "['a', 'e', 'i', 'o', 'u']\n"
     ]
    }
   ],
   "source": [
    "# 3) Insira a letra 'o' na posição correta da lista para que as vogais sejam mantidas na ordem.\n",
    "\n",
    "vogais = ['a','e','i','u']\n",
    "vogais.append('o')\n",
    "vogais = sorted(vogais)\n",
    "print(vogais)"
   ]
  },
  {
   "cell_type": "code",
   "execution_count": 4,
   "metadata": {},
   "outputs": [
    {
     "name": "stdout",
     "output_type": "stream",
     "text": [
      "Digite uma letra:\n",
      "a\n",
      "Itens que começam com a\n",
      "['abcd', 'abc', 'amn']\n"
     ]
    }
   ],
   "source": [
    "# 4) Faça um programa que solicite ao usuário a digitação de uma letra.\n",
    "# Em seguida, o programa deve procurar na lista dada as palavras que começam com a letra digitada.\n",
    "\n",
    "text_list = ['abcd', 'abc','def', 'bla', 'xis','top','bot','ser','amn']\n",
    "print(\"Digite uma letra:\")\n",
    "entrada = input()\n",
    "print(entrada)\n",
    "print(f'Itens que começam com {entrada}')\n",
    "print([item for item in text_list if item[0] == entrada])\n"
   ]
  }
 ],
 "metadata": {
  "kernelspec": {
   "display_name": ".venv",
   "language": "python",
   "name": "python3"
  },
  "language_info": {
   "codemirror_mode": {
    "name": "ipython",
    "version": 3
   },
   "file_extension": ".py",
   "mimetype": "text/x-python",
   "name": "python",
   "nbconvert_exporter": "python",
   "pygments_lexer": "ipython3",
   "version": "3.12.0"
  }
 },
 "nbformat": 4,
 "nbformat_minor": 2
}
